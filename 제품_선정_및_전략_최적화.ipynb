{
  "nbformat": 4,
  "nbformat_minor": 0,
  "metadata": {
    "colab": {
      "provenance": [],
      "toc_visible": true,
      "authorship_tag": "ABX9TyOzeZZdZUE5JYkEdSj3EtXv",
      "include_colab_link": true
    },
    "kernelspec": {
      "name": "python3",
      "display_name": "Python 3"
    },
    "language_info": {
      "name": "python"
    }
  },
  "cells": [
    {
      "cell_type": "markdown",
      "metadata": {
        "id": "view-in-github",
        "colab_type": "text"
      },
      "source": [
        "<a href=\"https://colab.research.google.com/github/iam-yeong/my-first-web-site/blob/main/%EC%A0%9C%ED%92%88_%EC%84%A0%EC%A0%95_%EB%B0%8F_%EC%A0%84%EB%9E%B5_%EC%B5%9C%EC%A0%81%ED%99%94.ipynb\" target=\"_parent\"><img src=\"https://colab.research.google.com/assets/colab-badge.svg\" alt=\"Open In Colab\"/></a>"
      ]
    },
    {
      "cell_type": "code",
      "execution_count": null,
      "metadata": {
        "id": "D2LB5SiIrqij"
      },
      "outputs": [],
      "source": [
        "# 카테고리 별 판매량\n",
        "value_counts.plot(kind='bar')\n",
        "plt.title('Frequency of Unique Values in Category')\n",
        "plt.xlabel('Unique Values')\n",
        "plt.ylabel('Frequency')\n",
        "plt.savefig('category', dpi=300)\n",
        "plt.show()"
      ]
    },
    {
      "cell_type": "code",
      "source": [
        "# 카테고리 별 가격 분포\n",
        "plt.figure(figsize=(12, 10))\n",
        "sns.boxplot(x='price', y='category', data=pakistan_data, showfliers=False)\n",
        "plt.title('Price Distribution by Category')\n",
        "plt.xlabel('Price')\n",
        "plt.ylabel('Category')\n",
        "plt.xlabel('Price')\n",
        "# 가격 범위가 넓기 때문에 로그 스케일을 적용합니다.\n",
        "plt.xscale('log')\n",
        "\n",
        "plt.show()"
      ],
      "metadata": {
        "id": "Sm63lUNJsaVK"
      },
      "execution_count": null,
      "outputs": []
    },
    {
      "cell_type": "code",
      "source": [
        "# 카테고리 별 총 매출\n",
        "\n",
        "category_amount_sum = pakistan_group.groupby('category')['grand_total'].sum()\n",
        "status_amount = pakistan_group.groupby(['category', 'status'])['grand_total'].sum().unstack(fill_value=0)\n",
        "status_amount['Success Amount'] = status_amount['complete'] - (status_amount['refund'])\n",
        "\n",
        "# 3. 그래프 그리기\n",
        "fig, axes = plt.subplots(nrows=1, ncols=2, figsize=(14, 6))\n",
        "\n",
        "# 첫 번째 그래프: 카테고리별 총 'amount' 합계\n",
        "category_amount_sum.plot(kind='bar', ax=axes[0], color='blue')\n",
        "axes[0].set_title('Total Amount by Category')\n",
        "axes[0].set_ylabel('Total Amount')\n",
        "axes[0].set_xlabel('Category')\n",
        "\n",
        "plt.tight_layout()\n",
        "plt.show()"
      ],
      "metadata": {
        "id": "boevTepbsaSS"
      },
      "execution_count": null,
      "outputs": []
    },
    {
      "cell_type": "code",
      "source": [
        "# 카테고리 별 주문 상태 분포\n",
        "\n",
        "sns.set_style(\"whitegrid\")\n",
        "\n",
        "\n",
        "category_status_counts = pd.pivot_table(pakistan_group, values='increment_id', index='category', columns='status', aggfunc='count', fill_value=0)\n",
        "\n",
        "\n",
        "plt.figure(figsize=(14, 8))\n",
        "sns.heatmap(category_status_counts, annot=True, fmt=\"d\", cmap=\"YlGnBu\")\n",
        "plt.title('Category vs. Order Status')\n",
        "plt.xlabel('Order Status')\n",
        "plt.ylabel('Category')\n",
        "plt.xticks(rotation=45)\n",
        "plt.tight_layout()\n",
        "plt.show()"
      ],
      "metadata": {
        "id": "4_OFOfiAsaPy"
      },
      "execution_count": null,
      "outputs": []
    },
    {
      "cell_type": "code",
      "source": [
        "# 카테고리 성공 주문 비율\n",
        "status_counts = pakistan_group.groupby(['category', 'status'])['item_id'].count().unstack(fill_value=0)\n",
        "\n",
        "status_counts['Total Orders'] = status_counts.sum(axis=1)\n",
        "\n",
        "\n",
        "status_counts['Success Rate'] = status_counts['complete'] / status_counts['Total Orders']\n",
        "\n",
        "\n",
        "status_counts_sorted = status_counts.sort_values('Success Rate', ascending=False)\n",
        "\n",
        "\n",
        "plt.figure(figsize=(12, 8))\n",
        "status_counts_sorted['Success Rate'].plot(kind='bar', color='skyblue')\n",
        "plt.title('Category - Order Success Rate')\n",
        "plt.xlabel('Category')\n",
        "plt.ylabel('Success Rate')\n",
        "plt.xticks(rotation=45, ha=\"right\")\n",
        "plt.tight_layout()\n",
        "plt.show()"
      ],
      "metadata": {
        "id": "XB0OaVLEsaLK"
      },
      "execution_count": null,
      "outputs": []
    },
    {
      "cell_type": "code",
      "source": [
        "# 가격대 별 취소와 환불 비중\n",
        "filtered_data = pakistan_group[parkistan_group['status'].isin(['complete', 'refund', 'canceled'])]\n",
        "price_bins = [0, 1000, 5000, 10000, 20000, 50000, 100000, float('inf')]\n",
        "price_labels = ['0-1000', '1001-5000', '5001-10000', '10001-20000', '20001-50000', '50001-100000', '100000+']\n",
        "filtered_data['price_range'] = pd.cut(filtered_data['price'], bins=price_bins, labels=price_labels, right=False)\n",
        "\n",
        "\n",
        "price_range_status_counts = filtered_data.groupby(['price_range', 'status'])['item_id'].count().unstack(fill_value=0)\n",
        "\n",
        "refund_counts = price_range_status_counts.get('refund', pd.Series(0, index=price_range_status_counts.index))\n",
        "canceled_counts = price_range_status_counts.get('canceled', pd.Series(0, index=price_range_status_counts.index))\n",
        "complete_counts = price_range_status_counts.get('complete', pd.Series(0, index=price_range_status_counts.index))\n",
        "\n",
        "\n",
        "total = refund_counts + canceled_counts + complete_counts\n",
        "price_range_status_counts['Refund Rate'] = refund_counts / total\n",
        "price_range_status_counts['Canceled Rate'] = canceled_counts / total\n",
        "\n",
        "\n",
        "plt.figure(figsize=(12, 8))\n",
        "price_range_status_counts[['Refund Rate', 'Canceled Rate']].plot(kind='bar', color=['purple', 'orange'])\n",
        "plt.title('Refund and Canceled Rates by Price Range')\n",
        "plt.xlabel('Price Range')\n",
        "plt.ylabel('Rate')\n",
        "plt.xticks(rotation=45)\n",
        "plt.legend(['Refund Rate', 'Canceled Rate'])\n",
        "plt.tight_layout()\n",
        "plt.show()"
      ],
      "metadata": {
        "id": "tirw5_3FsaIi"
      },
      "execution_count": null,
      "outputs": []
    },
    {
      "cell_type": "code",
      "source": [
        "# 상품 카테고리에 따른 결제 수단 비율\n",
        "category_payment_counts = parkistan_group.groupby(['category', 'payment_method']).size().unstack(fill_value=0)\n",
        "category_payment_proportion = category_payment_counts.divide(category_payment_counts.sum(axis=1), axis=0)\n",
        "\n",
        "\n",
        "ax = category_payment_proportion.plot(kind='bar', stacked=True, figsize=(10, 7), colormap='tab20')\n",
        "\n",
        "\n",
        "ax.set_title('Payment Method by Category')\n",
        "ax.set_xlabel('Category')\n",
        "ax.set_ylabel('Rate')\n",
        "\n",
        "\n",
        "plt.xticks(rotation=90)\n",
        "\n",
        "\n",
        "plt.legend(title='Payment Method', bbox_to_anchor=(1.05, 1), loc='upper left')\n",
        "\n",
        "\n",
        "plt.tight_layout()\n",
        "plt.show()"
      ],
      "metadata": {
        "id": "ltZVKsSnsaGC"
      },
      "execution_count": null,
      "outputs": []
    },
    {
      "cell_type": "code",
      "source": [
        "# 카테고리별 월별 할인 추이\n",
        "top_categories = ['Mobiles & Tablets', \"Men's Fashion\", \"Women's Fashion\", 'Appliances', 'Superstore', 'Beauty & Grooming', 'Soghaat']\n",
        "bottom_categories = ['Home & Living', 'Kids & Baby', '\\\\N', 'Others', 'Entertainment', 'Computing', 'Health & Sports', 'Books']\n",
        "\n",
        "\n",
        "top_data = pakistan_group[pakistan_group['category'].isin(top_categories)]\n",
        "bottom_data = pakistan_group[pakistan_group['category'].isin(bottom_categories)]\n",
        "\n",
        "\n",
        "top_monthly_price = top_data.groupby(['Month', 'category'])['discount_amount'].sum().unstack()\n",
        "bottom_monthly_price = bottom_data.groupby(['Month', 'category'])['discount_amount'].sum().unstack()\n",
        "\n",
        "\n",
        "fig, ax = plt.subplots(2, 1, figsize=(15, 10), sharex=True)\n",
        "\n",
        "\n",
        "top_monthly_price.plot(ax=ax[0])\n",
        "ax[0].set_title('Top Categories: Discount by Month')\n",
        "ax[0].set_ylabel('Discount')\n",
        "ax[0].legend(title='Category', bbox_to_anchor=(1.05, 1), loc='upper left')\n",
        "plt.xticks(rotation=90)\n",
        "\n",
        "bottom_monthly_price.plot(ax=ax[1])\n",
        "ax[1].set_title('Bottom Categories: Discount by Month')\n",
        "ax[1].set_ylabel('Discount')\n",
        "ax[1].legend(title='Category', bbox_to_anchor=(1.05, 1), loc='upper left')\n",
        "plt.xticks(rotation=90)\n",
        "\n",
        "\n",
        "\n",
        "plt.show()\n"
      ],
      "metadata": {
        "id": "mndEVBkBsaDS"
      },
      "execution_count": null,
      "outputs": []
    },
    {
      "cell_type": "code",
      "source": [
        "# 카테고리별 월별 판매량 추이\n",
        "\n",
        "pakistan_group['Month'] = pakistan_group['created_at'].dt.strftime('%Y-%m')\n",
        "\n",
        "monthly_order_data = pakistan_group.groupby(['Month', 'category'])['increment_id'].nunique().reset_index()\n",
        "monthly_order_data.rename(columns={'increment_id': 'Order Count'}, inplace=True)\n",
        "\n",
        "\n",
        "top_categories = ['Mobiles & Tablets', \"Men's Fashion\", \"Women's Fashion\", 'Appliances', 'Superstore', 'Beauty & Grooming', 'Soghaat']\n",
        "bottom_categories = ['Home & Living', 'Kids & Baby', '\\\\N', 'Others', 'Entertainment', 'Computing', 'Health & Sports', 'Books']\n",
        "\n",
        "\n",
        "top_data = monthly_order_data[monthly_order_data['category'].isin(top_categories)]\n",
        "\n",
        "\n",
        "bottom_data = monthly_order_data[monthly_order_data['category'].isin(bottom_categories)]\n",
        "\n",
        "\n",
        "sns.set_theme(style=\"whitegrid\")\n",
        "\n",
        "\n",
        "plt.figure(figsize=(15, 5))\n",
        "sns.lineplot(data=top_data, x='Month', y='Order Count', hue='category')\n",
        "plt.xticks(rotation=90)\n",
        "plt.title('Top 7 Category Volume')\n",
        "plt.legend(title='Category', bbox_to_anchor=(1.05, 1), loc='upper left')\n",
        "plt.tight_layout()\n",
        "\n",
        "\n",
        "plt.figure(figsize=(15, 5))\n",
        "sns.lineplot(data=bottom_data, x='Month', y='Order Count', hue='category')\n",
        "plt.xticks(rotation=90)\n",
        "plt.title('Bottom Category Volume')\n",
        "plt.legend(title='Category', bbox_to_anchor=(1.05, 1), loc='upper left')\n",
        "plt.tight_layout()\n",
        "\n",
        "plt.show()ow()"
      ],
      "metadata": {
        "id": "q7hexqOosaAp"
      },
      "execution_count": null,
      "outputs": []
    },
    {
      "cell_type": "code",
      "source": [],
      "metadata": {
        "id": "RBLDWF9WsZ-S"
      },
      "execution_count": null,
      "outputs": []
    },
    {
      "cell_type": "code",
      "source": [],
      "metadata": {
        "id": "O-nCmHBusZ7y"
      },
      "execution_count": null,
      "outputs": []
    },
    {
      "cell_type": "code",
      "source": [],
      "metadata": {
        "id": "MSZTrgLFsZ5S"
      },
      "execution_count": null,
      "outputs": []
    },
    {
      "cell_type": "code",
      "source": [],
      "metadata": {
        "id": "fPVrUZKPsZ2i"
      },
      "execution_count": null,
      "outputs": []
    },
    {
      "cell_type": "code",
      "source": [],
      "metadata": {
        "id": "iAox9fqSsZzy"
      },
      "execution_count": null,
      "outputs": []
    },
    {
      "cell_type": "code",
      "source": [],
      "metadata": {
        "id": "uPCpoUsUsZxS"
      },
      "execution_count": null,
      "outputs": []
    }
  ]
}